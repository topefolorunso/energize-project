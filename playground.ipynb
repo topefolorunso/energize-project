{
 "cells": [
  {
   "cell_type": "code",
   "execution_count": 10,
   "metadata": {},
   "outputs": [],
   "source": [
    "import pandas as pd\n",
    "from requests import request\n",
    "import json\n",
    "from datetime import datetime\n"
   ]
  },
  {
   "cell_type": "code",
   "execution_count": null,
   "metadata": {},
   "outputs": [],
   "source": [
    "base_url = \"https://api.eia.gov/v2/total-energy/data/\"\n",
    "\n",
    "current_date = datetime.utcnow()\n",
    "year = current_date.year\n",
    "month = current_date.month\n",
    "year_month = f'{year}-{month}'\n",
    "\n",
    "api_key = \"b1g1YWmY1VVmeEBkSdJOt5F8vwqj3MtvoqqgmvsL\"\n",
    "query = f\"frequency=monthly&data[0]=value&start={year_month}&end={year_month}&api_key={api_key}\"\n",
    "url = f'{base_url}?{query}'\n",
    "\n",
    "r = request(\"GET\", url=url)\n"
   ]
  },
  {
   "cell_type": "code",
   "execution_count": null,
   "metadata": {},
   "outputs": [],
   "source": [
    "\n",
    "\n",
    "data = r.text\n",
    "json_data = json.loads(data).get('response').get('data')\n",
    "\n",
    "df = pd.DataFrame(json_data)\n",
    "df.to_parquet('file.parquet')"
   ]
  },
  {
   "cell_type": "code",
   "execution_count": null,
   "metadata": {},
   "outputs": [],
   "source": []
  }
 ],
 "metadata": {
  "kernelspec": {
   "display_name": "Python 3.10.4 64-bit",
   "language": "python",
   "name": "python3"
  },
  "language_info": {
   "codemirror_mode": {
    "name": "ipython",
    "version": 3
   },
   "file_extension": ".py",
   "mimetype": "text/x-python",
   "name": "python",
   "nbconvert_exporter": "python",
   "pygments_lexer": "ipython3",
   "version": "3.10.4"
  },
  "orig_nbformat": 4,
  "vscode": {
   "interpreter": {
    "hash": "a9cff5a362bc38ef45d817ae74b1af54d6a076e3d773891282bce078b815ba34"
   }
  }
 },
 "nbformat": 4,
 "nbformat_minor": 2
}
